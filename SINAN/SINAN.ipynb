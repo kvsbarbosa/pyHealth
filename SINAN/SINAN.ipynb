{
  "cells": [
    {
      "cell_type": "code",
      "source": [
        "import pandas as pd"
      ],
      "metadata": {
        "id": "rutKc8lXVFjZ"
      },
      "execution_count": 94,
      "outputs": []
    },
    {
      "cell_type": "code",
      "source": [
        "pd.options.display.max_columns = None"
      ],
      "metadata": {
        "id": "hkFdB_8iVhU5"
      },
      "execution_count": 95,
      "outputs": []
    },
    {
      "cell_type": "code",
      "source": [
        "data = pd.read_csv('/content/ANIMBR22.csv', encoding='latin1')"
      ],
      "metadata": {
        "id": "ne5V0RenWjK_"
      },
      "execution_count": null,
      "outputs": []
    },
    {
      "cell_type": "code",
      "source": [
        "columns = ['DT_NOTIFIC', 'SEM_NOT', 'NU_ANO', 'SG_UF_NOT',\n",
        "       'ID_MUNICIP', 'ID_REGIONA', 'DT_SIN_PRI', 'SEM_PRI', 'ANO_NASC',\n",
        "       'NU_IDADE_N', 'CS_SEXO', 'CS_GESTANT', 'CS_RACA', 'CS_ESCOL_N', 'SG_UF',\n",
        "       'ID_MN_RESI', 'ID_RG_RESI', 'ID_PAIS', 'DT_INVEST', 'ID_OCUPA_N',\n",
        "       'ANT_DT_ACI', 'ANT_UF', 'ANT_MUNIC_', 'ANT_LOCALI', 'ANT_TEMPO_',\n",
        "       'ANT_LOCA_1', 'MCLI_LOCAL', 'CLI_DOR', 'CLI_EDEMA', 'CLI_EQUIMO',\n",
        "       'CLI_NECROS', 'CLI_LOCAL_', 'CLI_LOCA_1', 'MCLI_SIST', 'CLI_NEURO',\n",
        "       'CLI_HEMORR', 'CLI_VAGAIS', 'CLI_MIOLIT', 'CLI_RENAL', 'CLI_OUTR_2',\n",
        "       'CLI_OUTR_3', 'CLI_TEMPO_', 'TP_ACIDENT', 'ANI_TIPO_1', 'ANI_SERPEN',\n",
        "       'ANI_ARANHA', 'ANI_LAGART', 'TRA_CLASSI', 'CON_SOROTE', 'NU_AMPOLAS',\n",
        "       'NU_AMPOL_1', 'NU_AMPOL_8', 'NU_AMPOL_6', 'NU_AMPOL_4', 'NU_AMPO_7',\n",
        "       'NU_AMPO_5', 'NU_AMPOL_9', 'NU_AMPOL_3', 'COM_LOC', 'COM_SECUND',\n",
        "       'COM_NECROS', 'COM_COMPOR', 'COM_DEFICT', 'COM_APUTAC', 'COM_SISTEM',\n",
        "       'COM_RENAL', 'COM_EDEMA', 'COM_SEPTIC', 'COM_CHOQUE', 'DOENCA_TRA',\n",
        "       'EVOLUCAO', 'DT_OBITO', 'DT_ENCERRA', 'DT_DIGITA']"
      ],
      "metadata": {
        "id": "1bUxpTnWZFOw"
      },
      "execution_count": 97,
      "outputs": []
    },
    {
      "cell_type": "code",
      "source": [
        "data = data[columns].reset_index(drop=True)"
      ],
      "metadata": {
        "id": "w_ooLQdoZZ7C"
      },
      "execution_count": 98,
      "outputs": []
    },
    {
      "cell_type": "code",
      "source": [
        "ages = []\n",
        "\n",
        "for i in data['NU_IDADE_N']:\n",
        "  if i > 4000:\n",
        "    ages.append(i - 4000)\n",
        "  elif 4000 > i:\n",
        "    ages.append(0)\n",
        "  else:\n",
        "    ages.append(0)\n",
        "\n",
        "data['NU_IDADE_N'] = ages"
      ],
      "metadata": {
        "id": "9BX9mNbPaLpi"
      },
      "execution_count": 99,
      "outputs": []
    },
    {
      "cell_type": "code",
      "source": [
        "county = pd.read_csv('https://raw.githubusercontent.com/kvsbarbosa/pyHealth/Main/SINAN/data/municipios.csv')\n",
        "county = county[['IBGE6', 'Municipio']]\n",
        "county = county.set_index('IBGE6')\n",
        "county_dictionary = county.to_dict()['Municipio']\n",
        "data['ID_MUNICIP_NOME'] = data['ID_MUNICIP'].map(county_dictionary)\n",
        "data['ID_MN_RESI_NOME'] = data['ID_MN_RESI'].map(county_dictionary)\n",
        "data['ANT_MUNIC_NOME'] = data['ANT_MUNIC_'].map(county_dictionary)"
      ],
      "metadata": {
        "id": "8JdisX7ddJ7C"
      },
      "execution_count": null,
      "outputs": []
    },
    {
      "cell_type": "code",
      "source": [
        "occupation = pd.read_csv('https://raw.githubusercontent.com/kvsbarbosa/pyHealth/Main/SINAN/data/ocupacao.csv')\n",
        "occupation = occupation.set_index('CODIGO')\n",
        "occupation_dictionary = occupation.to_dict()['TITULO']\n",
        "data['ID_OCUPA_N_NOME'] = data['ID_OCUPA_N'].map(occupation_dictionary)"
      ],
      "metadata": {
        "id": "RLLGgE5td9j6"
      },
      "execution_count": 101,
      "outputs": []
    },
    {
      "cell_type": "code",
      "source": [
        "uf = pd.read_csv('https://raw.githubusercontent.com/kvsbarbosa/pyHealth/Main/SINAN/data/uf.csv')\n",
        "uf = uf.set_index('Código UF')\n",
        "uf_dictionary = uf.to_dict()['UF']\n",
        "data['SG_UF_NOME'] = data['SG_UF'].map(uf_dictionary)\n",
        "data['SG_UF_NOT_NOME'] = data['SG_UF_NOT'].map(uf_dictionary)\n",
        "data['ANT_UF_NOME'] = data['ANT_UF'].map(uf_dictionary)"
      ],
      "metadata": {
        "id": "EfmZT-AjeWlf"
      },
      "execution_count": 102,
      "outputs": []
    },
    {
      "cell_type": "code",
      "source": [
        "columns_dictionary= {'DT_NOTIFIC':'Data da notificação',\n",
        "                     'SEM_NOT':'Semana da notificação',\n",
        "                     'NU_ANO':'Ano da notificação',\n",
        "                     'SG_UF_NOT':'UF de notificação',\n",
        "                     'ID_MUNICIP':'Código Município de notificação',\n",
        "                     'ID_REGIONA':'Regional de Notificação',\n",
        "                     'DT_SIN_PRI':'Data de início dos sintomas',\n",
        "                     'SEM_PRI':'Semana de início dos sintomas',\n",
        "                     'DT_NASC':'Data de Nascimento',\n",
        "                     'NU_IDADE_N':'Idade',\n",
        "                      'CS_SEXO':'Sexo',\n",
        "                      'CS_GESTANT':\"Gestante\",\n",
        "                      'CS_RACA':'Raça',\n",
        "                      'CS_ESCOL_N':'Escolaridade',\n",
        "                      'SG_UF':'UF de Residência',\n",
        "                      'ID_MN_RESI':'Código Município de Residência',\n",
        "                      'ID_RG_RESI':'Regional de Residência',\n",
        "                      'ID_PAIS':'País de Residência',\n",
        "                      'DT_INVEST':'Data da investigação',\n",
        "                      'ID_OCUPA_N':'Ocupação',\n",
        "                      'ANT_DT_ACI':'Data do acidente',\n",
        "                      'ANT_UF':'UF do acidente',\n",
        "                      'ANT_MUNIC_':'Código Município de ocorrência do acidente',\n",
        "                      'ANT_LOCALI':'Localidade da ocorrência',\n",
        "                      'ANT_ZONA':'Zona de ocorrência',\n",
        "                      'ANT_TEMPO_':'Tempo decorrido picada/atendimento',\n",
        "                      'ANT_LOCA_1':'Local da picada',\n",
        "                      'MCLI_LOCAL':'Manifestações locais',\n",
        "                      'CLI_DOR':'Manifestações locais - Dor',\n",
        "                      'CLI_EDEMA':'Manifestações locais - Edema',\n",
        "                      'CLI_EQUIMO':'Manifestações locais - Esquimose',\n",
        "                      'CLI_NECROS':'Manifestações locais - Necrose',\n",
        "                      'CLI_LOCAL_':'Manifestações locais - Outras',\n",
        "                      'CLI_LOCA_1':'Manifestações locais - Outras - especificada',\n",
        "                      'MCLI_SIST':'Manifestações sistêmicas',\n",
        "                      'CLI_NEURO':'Manifestações sistêmicas - Neuroparalíticas (ptose, palpebral, turvação visual',\n",
        "                      'CLI_HEMORR':'Manifestações sistêmicas - Hemorrágicas (gengivorragia, outros sangramentos)',\n",
        "                      'CLI_VAGAIS':'Manifestações sistêmicas - Vagais (vômitos/ diarreias)',\n",
        "                      'CLI_MIOLIT':'Manifestações sistêmicas - Miolíficas/hemolíticas (mialgia, anemia, urina escura)',\n",
        "                      'CLI_RENAL':'Manifestações sistêmicas - Renais (oligúria/anúria)',\n",
        "                      'CLI_OUTR_2':'Manifestações sistêmicas - Outras',\n",
        "                      'CLI_OUTR_3':'Manifestações sistêmicas - Outras especificada',\n",
        "                      'CLI_TEMPO_':'Tempo de coagulação',\n",
        "                      'TP_ACIDENT':'Tipo de acidente',\n",
        "                      'ANI_TIPO_1':'Tipo de acidente - outros',\n",
        "                      'ANI_SERPEN':'Serpente - tipo de acidente',\n",
        "                      'ANI_ARANHA':'Aranha - tipo de acidente',\n",
        "                      'ANI_LAGART':'Lagarta - tipo de acidente',\n",
        "                      'TRA_CLASSI':'Classificação do caso',\n",
        "                      'CON_SOROTE':'Soroterapia',\n",
        "                      'NU_AMPOLAS':'Soroterapia - Número de ampolas de soro antibrotópico (SAB)',\n",
        "                      'NU_AMPOL_1':'Soroterapia - Número de ampolas de soro antivrotálico (SAC)',\n",
        "                      'NU_AMPOL_8':'Soroterapia - Número de ampolas de soro antiaracnídico (SAAr)',\n",
        "                      'NU_AMPOL_6':'Soroterapia - Número de ampolas de soro antibrotópico-laquético (SABL)',\n",
        "                      'NU_AMPOL_4':'Soroterapia - Número de ampolas de soro antielapídico (SAEL)',\n",
        "                      'NU_AMPO_7':'Soroterapia - Número de ampolas de soro antiloxoscélico (SALox)',\n",
        "                      'NU_AMPO_5':'Soroterapia - Número de ampolas de soro antibrotópico-crotálico (SABC)',\n",
        "                      'NU_AMPOL_9':'Soroterapia - Número de ampolas de soro antiescorpiônico (SAEsc)',\n",
        "                      'NU_AMPOL_3':'Soroterapia - Número de ampolas de soro antilonômico (SALon)',\n",
        "                      'COM_LOC':'Complicações locais',\n",
        "                      'COM_SECUND':'Complicações locais - Infecção secundária',\n",
        "                      'COM_NECROS':'Complicações locais - Necrose extensa',\n",
        "                      'COM_COMPOR':'Complicações locais - Síndrome comportamental',\n",
        "                      'COM_DEFICT':'Complicações locais - Déficit Funcional ',\n",
        "                      'COM_APUTAC':'Complicações locais - Amputação ',\n",
        "                      'COM_SISTEM':'Complicações sistêmicas',\n",
        "                      'COM_RENAL':'Complicações sistêmicas - Insuficiência renal ',\n",
        "                      'COM_EDEMA':'Complicações sistêmicas - Insuficiência Respiratória/Edema Pulmonar Agudo ',\n",
        "                      'COM_SEPTIC':'Complicações sistêmicas - Septicemia ',\n",
        "                      'COM_CHOQUE':'Complicações sistêmicas - Choque ',\n",
        "                      'DOENCA_TRA':'Acidente relacionado ao trabalho',\n",
        "                      'EVOLUCAO':'Evolução do caso',\n",
        "                      'DT_OBITO':'Data do óbito',\n",
        "                      'DT_ENCERRA':'Data do encerramento',\n",
        "                      'DT_DIGITA':'Data de digitação',\n",
        "                      'ID_MUNICIP_nome':'Município de notificação',\n",
        "                      'ID_MN_RESI_nome':'Município de Residência',\n",
        "                      'ANT_MUNIC__nome':'Município de ocorrência do acidente'}\n",
        "\n",
        "final_data = data.rename(columns = columns_dictionary)"
      ],
      "metadata": {
        "id": "DPVAWBaye87Y"
      },
      "execution_count": null,
      "outputs": []
    },
    {
      "cell_type": "code",
      "source": [
        "final_data.to_csv('final_data.csv', index=False, sep=';')"
      ],
      "metadata": {
        "id": "992Jxjj3h5o3"
      },
      "execution_count": 104,
      "outputs": []
    }
  ],
  "metadata": {
    "colab": {
      "provenance": []
    },
    "kernelspec": {
      "display_name": "Python 3",
      "name": "python3"
    },
    "language_info": {
      "name": "python"
    }
  },
  "nbformat": 4,
  "nbformat_minor": 0
}